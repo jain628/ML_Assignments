{
 "cells": [
  {
   "cell_type": "code",
   "execution_count": 11,
   "metadata": {},
   "outputs": [
    {
     "name": "stdout",
     "output_type": "stream",
     "text": [
      "P(B|A): 0.0303030303030303\n"
     ]
    }
   ],
   "source": [
    "#Question 1\n",
    "''' Consider the below given probabilities: \n",
    "P(A) = 11 / 36\n",
    "P(B) = 6 / 36\n",
    "P(A|B) = 2 / 36\n",
    "Write a function in Python which takes 3 probabilities as argument and outputs the Conditional probability P(B|A).'''\n",
    "#****************************************************************************************************************\n",
    "def func(a,b,c):\n",
    "    P = ((a*b)/c)\n",
    "    return P\n",
    "A = 11/36\n",
    "B = 6/36\n",
    "AB = 2/36\n",
    "x = func(AB,B,A)\n",
    "print(\"P(B|A):\",x)\n",
    "    "
   ]
  },
  {
   "cell_type": "code",
   "execution_count": 14,
   "metadata": {},
   "outputs": [
    {
     "name": "stdout",
     "output_type": "stream",
     "text": [
      "bag 1 contains(4 white and 6 black balls)\n",
      "bag 2 contains(4 white and 3 black balls)\n",
      "p(E1) = 1/2\n",
      "p(E2) = 1/2\n",
      "A = probability of black balls\n",
      "p(A/E1) = 6/10\n",
      "p(A/E2) = 3/7\n",
      "using bayes theorm p(of getting black ball from bag 1) = p(E1)*p(A/E1)/p(E1)*p(A/E1)+p(E2)*p(A/E2)\n",
      "=>(6/10*1/2)/(6/10*1/2 + 3/7*1/2)\n",
      "Probability(of getting black ball from bag1): 7/12 ans\n"
     ]
    }
   ],
   "source": [
    "#Question 2\n",
    "'''Bag I contains 4 white and 6 black balls while another Bag II contains 4 white and 3 black balls.\n",
    "One ball is drawn at random from one of the bags and it is found to be black. \n",
    "Find the probability that it was drawn from Bag I.'''\n",
    "\n",
    "#********************************************************************************************\n",
    "a ='''bag 1 contains(4 white and 6 black balls)\n",
    "bag 2 contains(4 white and 3 black balls)\n",
    "p(E1) = 1/2\n",
    "p(E2) = 1/2\n",
    "A = probability of black balls\n",
    "p(A/E1) = 6/10\n",
    "p(A/E2) = 3/7\n",
    "using bayes theorm p(of getting black ball from bag 1) = p(E1)*p(A/E1)/p(E1)*p(A/E1)+p(E2)*p(A/E2)\n",
    "=>(6/10*1/2)/(6/10*1/2 + 3/7*1/2)\n",
    "Probability(of getting black ball from bag1): 7/12 ans'''\n",
    "print(a)\n"
   ]
  },
  {
   "cell_type": "code",
   "execution_count": 15,
   "metadata": {},
   "outputs": [
    {
     "name": "stdout",
     "output_type": "stream",
     "text": [
      "probability of speaking truth = 2/3\n",
      "probability of speaking lie = 1/3\n",
      "p(E1) = 2/3\n",
      "p(E2) 1/3\n",
      "A = rolling a dice with number 4\n",
      "p(A/E1) = 1/6\n",
      "p(A/E2) = 5/6\n",
      "using bayes theorem p(of speaking truth with 4 on dice) = p(E1)*p(A/E1)/p(E1)*p(A/E1)+p(E2)*p(A/E2)\n",
      "=>(1/6*2/3)/(1/6*2/3 + 1/3*5/6)\n",
      "Probability(of speaking truth with number 4 on dice):2/7 ans\n"
     ]
    }
   ],
   "source": [
    "#Question3\n",
    "'''A man is known to speak truth 2 out of 3 times. He throws a die and reports that number obtained is a four.\n",
    "Find the probability that the number obtained is actually a four.'''\n",
    "#*****************************************************************************************************************\n",
    "\n",
    "b='''probability of speaking truth = 2/3\n",
    "probability of speaking lie = 1/3\n",
    "p(E1) = 2/3\n",
    "p(E2) 1/3\n",
    "A = rolling a dice with number 4\n",
    "p(A/E1) = 1/6\n",
    "p(A/E2) = 5/6\n",
    "using bayes theorem p(of speaking truth with 4 on dice) = p(E1)*p(A/E1)/p(E1)*p(A/E1)+p(E2)*p(A/E2)\n",
    "=>(1/6*2/3)/(1/6*2/3 + 1/3*5/6)\n",
    "Probability(of speaking truth with number 4 on dice):2/7 ans'''\n",
    "print(b)\n"
   ]
  },
  {
   "cell_type": "code",
   "execution_count": null,
   "metadata": {},
   "outputs": [],
   "source": []
  }
 ],
 "metadata": {
  "kernelspec": {
   "display_name": "Python 3",
   "language": "python",
   "name": "python3"
  },
  "language_info": {
   "codemirror_mode": {
    "name": "ipython",
    "version": 3
   },
   "file_extension": ".py",
   "mimetype": "text/x-python",
   "name": "python",
   "nbconvert_exporter": "python",
   "pygments_lexer": "ipython3",
   "version": "3.6.5"
  }
 },
 "nbformat": 4,
 "nbformat_minor": 2
}
